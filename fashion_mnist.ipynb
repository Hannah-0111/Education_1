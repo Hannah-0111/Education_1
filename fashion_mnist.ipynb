{
 "cells": [
  {
   "cell_type": "code",
   "execution_count": 53,
   "metadata": {},
   "outputs": [],
   "source": [
    "import numpy as np\n",
    "import pandas as pd\n",
    "import tensorflow as tf\n",
    "from tensorflow.keras.datasets import fashion_mnist, mnist"
   ]
  },
  {
   "cell_type": "markdown",
   "metadata": {},
   "source": [
    "### Fashion mnist dataset\n",
    "* 6만개 학습용 데이터, 1만개 테스트용 데이터(grayscale image array)"
   ]
  },
  {
   "cell_type": "code",
   "execution_count": 54,
   "metadata": {},
   "outputs": [
    {
     "name": "stdout",
     "output_type": "stream",
     "text": [
      "train dataset shape: (60000, 28, 28) (60000,)\n",
      "test dataset shape: (10000, 28, 28) (10000,)\n"
     ]
    }
   ],
   "source": [
    "(train_images, train_labels), (test_images, test_labels) = fashion_mnist.load_data()\n",
    "print('train dataset shape:', train_images.shape, train_labels.shape)\n",
    "print('test dataset shape:', test_images.shape, test_labels.shape)"
   ]
  },
  {
   "cell_type": "code",
   "execution_count": 55,
   "metadata": {},
   "outputs": [
    {
     "data": {
      "text/plain": [
       "Text(0.5, 1.0, '9')"
      ]
     },
     "execution_count": 55,
     "metadata": {},
     "output_type": "execute_result"
    },
    {
     "data": {
      "image/png": "[encoded data removed]",
      "text/plain": [
       "<Figure size 640x480 with 1 Axes>"
      ]
     },
     "metadata": {},
     "output_type": "display_data"
    }
   ],
   "source": [
    "import matplotlib.pyplot as plt\n",
    "\n",
    "plt.imshow(train_images[0], cmap='gray')\n",
    "# plt.axis('off')\n",
    "plt.title(train_labels[0])"
   ]
  },
  {
   "cell_type": "code",
   "execution_count": 56,
   "metadata": {},
   "outputs": [
    {
     "data": {
      "text/plain": [
       "(array([[  0,   0,   0,   0,   0,   0,   0,   0,   0,   0,   0,   0,   0,\n",
       "           0,   0,   0,   0,   0,   0,   0,   0,   0,   0,   0,   0,   0,\n",
       "           0,   0],\n",
       "        [  0,   0,   0,   0,   0,   0,   0,   0,   0,   0,   0,   0,   0,\n",
       "           0,   0,   0,   0,   0,   0,   0,   0,   0,   0,   0,   0,   0,\n",
       "           0,   0],\n",
       "        [  0,   0,   0,   0,   0,   0,   0,   0,   0,   0,   0,   0,   0,\n",
       "           0,   0,   0,   0,   0,   0,   0,   0,   0,   0,   0,   0,   0,\n",
       "           0,   0],\n",
       "        [  0,   0,   0,   0,   0,   0,   0,   0,   0,   0,   0,   0,   1,\n",
       "           0,   0,  13,  73,   0,   0,   1,   4,   0,   0,   0,   0,   1,\n",
       "           1,   0],\n",
       "        [  0,   0,   0,   0,   0,   0,   0,   0,   0,   0,   0,   0,   3,\n",
       "           0,  36, 136, 127,  62,  54,   0,   0,   0,   1,   3,   4,   0,\n",
       "           0,   3],\n",
       "        [  0,   0,   0,   0,   0,   0,   0,   0,   0,   0,   0,   0,   6,\n",
       "           0, 102, 204, 176, 134, 144, 123,  23,   0,   0,   0,   0,  12,\n",
       "          10,   0],\n",
       "        [  0,   0,   0,   0,   0,   0,   0,   0,   0,   0,   0,   0,   0,\n",
       "           0, 155, 236, 207, 178, 107, 156, 161, 109,  64,  23,  77, 130,\n",
       "          72,  15],\n",
       "        [  0,   0,   0,   0,   0,   0,   0,   0,   0,   0,   0,   1,   0,\n",
       "          69, 207, 223, 218, 216, 216, 163, 127, 121, 122, 146, 141,  88,\n",
       "         172,  66],\n",
       "        [  0,   0,   0,   0,   0,   0,   0,   0,   0,   1,   1,   1,   0,\n",
       "         200, 232, 232, 233, 229, 223, 223, 215, 213, 164, 127, 123, 196,\n",
       "         229,   0],\n",
       "        [  0,   0,   0,   0,   0,   0,   0,   0,   0,   0,   0,   0,   0,\n",
       "         183, 225, 216, 223, 228, 235, 227, 224, 222, 224, 221, 223, 245,\n",
       "         173,   0],\n",
       "        [  0,   0,   0,   0,   0,   0,   0,   0,   0,   0,   0,   0,   0,\n",
       "         193, 228, 218, 213, 198, 180, 212, 210, 211, 213, 223, 220, 243,\n",
       "         202,   0],\n",
       "        [  0,   0,   0,   0,   0,   0,   0,   0,   0,   1,   3,   0,  12,\n",
       "         219, 220, 212, 218, 192, 169, 227, 208, 218, 224, 212, 226, 197,\n",
       "         209,  52],\n",
       "        [  0,   0,   0,   0,   0,   0,   0,   0,   0,   0,   6,   0,  99,\n",
       "         244, 222, 220, 218, 203, 198, 221, 215, 213, 222, 220, 245, 119,\n",
       "         167,  56],\n",
       "        [  0,   0,   0,   0,   0,   0,   0,   0,   0,   4,   0,   0,  55,\n",
       "         236, 228, 230, 228, 240, 232, 213, 218, 223, 234, 217, 217, 209,\n",
       "          92,   0],\n",
       "        [  0,   0,   1,   4,   6,   7,   2,   0,   0,   0,   0,   0, 237,\n",
       "         226, 217, 223, 222, 219, 222, 221, 216, 223, 229, 215, 218, 255,\n",
       "          77,   0],\n",
       "        [  0,   3,   0,   0,   0,   0,   0,   0,   0,  62, 145, 204, 228,\n",
       "         207, 213, 221, 218, 208, 211, 218, 224, 223, 219, 215, 224, 244,\n",
       "         159,   0],\n",
       "        [  0,   0,   0,   0,  18,  44,  82, 107, 189, 228, 220, 222, 217,\n",
       "         226, 200, 205, 211, 230, 224, 234, 176, 188, 250, 248, 233, 238,\n",
       "         215,   0],\n",
       "        [  0,  57, 187, 208, 224, 221, 224, 208, 204, 214, 208, 209, 200,\n",
       "         159, 245, 193, 206, 223, 255, 255, 221, 234, 221, 211, 220, 232,\n",
       "         246,   0],\n",
       "        [  3, 202, 228, 224, 221, 211, 211, 214, 205, 205, 205, 220, 240,\n",
       "          80, 150, 255, 229, 221, 188, 154, 191, 210, 204, 209, 222, 228,\n",
       "         225,   0],\n",
       "        [ 98, 233, 198, 210, 222, 229, 229, 234, 249, 220, 194, 215, 217,\n",
       "         241,  65,  73, 106, 117, 168, 219, 221, 215, 217, 223, 223, 224,\n",
       "         229,  29],\n",
       "        [ 75, 204, 212, 204, 193, 205, 211, 225, 216, 185, 197, 206, 198,\n",
       "         213, 240, 195, 227, 245, 239, 223, 218, 212, 209, 222, 220, 221,\n",
       "         230,  67],\n",
       "        [ 48, 203, 183, 194, 213, 197, 185, 190, 194, 192, 202, 214, 219,\n",
       "         221, 220, 236, 225, 216, 199, 206, 186, 181, 177, 172, 181, 205,\n",
       "         206, 115],\n",
       "        [  0, 122, 219, 193, 179, 171, 183, 196, 204, 210, 213, 207, 211,\n",
       "         210, 200, 196, 194, 191, 195, 191, 198, 192, 176, 156, 167, 177,\n",
       "         210,  92],\n",
       "        [  0,   0,  74, 189, 212, 191, 175, 172, 175, 181, 185, 188, 189,\n",
       "         188, 193, 198, 204, 209, 210, 210, 211, 188, 188, 194, 192, 216,\n",
       "         170,   0],\n",
       "        [  2,   0,   0,   0,  66, 200, 222, 237, 239, 242, 246, 243, 244,\n",
       "         221, 220, 193, 191, 179, 182, 182, 181, 176, 166, 168,  99,  58,\n",
       "           0,   0],\n",
       "        [  0,   0,   0,   0,   0,   0,   0,  40,  61,  44,  72,  41,  35,\n",
       "           0,   0,   0,   0,   0,   0,   0,   0,   0,   0,   0,   0,   0,\n",
       "           0,   0],\n",
       "        [  0,   0,   0,   0,   0,   0,   0,   0,   0,   0,   0,   0,   0,\n",
       "           0,   0,   0,   0,   0,   0,   0,   0,   0,   0,   0,   0,   0,\n",
       "           0,   0],\n",
       "        [  0,   0,   0,   0,   0,   0,   0,   0,   0,   0,   0,   0,   0,\n",
       "           0,   0,   0,   0,   0,   0,   0,   0,   0,   0,   0,   0,   0,\n",
       "           0,   0]], dtype=uint8),\n",
       " 9)"
      ]
     },
     "execution_count": 56,
     "metadata": {},
     "output_type": "execute_result"
    }
   ],
   "source": [
    "train_images[0, :, :], train_labels[0]"
   ]
  },
  {
   "cell_type": "code",
   "execution_count": 57,
   "metadata": {},
   "outputs": [
    {
     "data": {
      "image/png": "[encoded data removed]",
      "text/plain": [
       "<Figure size 2200x600 with 8 Axes>"
      ]
     },
     "metadata": {},
     "output_type": "display_data"
    },
    {
     "data": {
      "image/png": "[encoded data removed]",
      "text/plain": [
       "<Figure size 2200x600 with 8 Axes>"
      ]
     },
     "metadata": {},
     "output_type": "display_data"
    }
   ],
   "source": [
    "class_names = ['T-shirt/top', 'Trouser', 'Pullover', 'Dress', 'Coat','Sandal', \\\n",
    "               'Shirt', 'Sneaker', 'Bag', 'Ankle boot']\n",
    "\n",
    "def show_images(images, labels, ncols=8):\n",
    "    figure, axs = plt.subplots(figsize=(22,6), nrows=1, ncols=ncols)\n",
    "    for i in range(ncols):\n",
    "        axs[i].imshow(images[i], cmap='gray')\n",
    "        axs[i].set_title(class_names[labels[i]])\n",
    "\n",
    "show_images(train_images[:8], train_labels[:8], ncols=8)\n",
    "show_images(train_images[8:16], train_labels[8:16], ncols=8)"
   ]
  },
  {
   "cell_type": "markdown",
   "metadata": {},
   "source": [
    "## 1.1 Dense Layer를 기반으로 모델을 생성"
   ]
  },
  {
   "cell_type": "code",
   "execution_count": 58,
   "metadata": {},
   "outputs": [],
   "source": [
    "from tensorflow.keras.layers import Dense, Flatten\n",
    "from tensorflow.keras.models import Sequential"
   ]
  },
  {
   "cell_type": "code",
   "execution_count": 59,
   "metadata": {},
   "outputs": [
    {
     "name": "stdout",
     "output_type": "stream",
     "text": [
      "Model: \"sequential_2\"\n",
      "_________________________________________________________________\n",
      " Layer (type)                Output Shape              Param #   \n",
      "=================================================================\n",
      " flatten_4 (Flatten)         (None, 784)               0         \n",
      "                                                                 \n",
      " dense_7 (Dense)             (None, 100)               78500     \n",
      "                                                                 \n",
      " dense_8 (Dense)             (None, 30)                3030      \n",
      "                                                                 \n",
      " dense_9 (Dense)             (None, 10)                310       \n",
      "                                                                 \n",
      "=================================================================\n",
      "Total params: 81,840\n",
      "Trainable params: 81,840\n",
      "Non-trainable params: 0\n",
      "_________________________________________________________________\n"
     ]
    }
   ],
   "source": [
    "INPUT_SIZE = 28\n",
    "model = Sequential([\n",
    "    Flatten(input_shape=(INPUT_SIZE, INPUT_SIZE)),\n",
    "    Dense(100, activation='relu'), # param의 수 =>({28*28)+1(bias값)*100(dense값)\n",
    "    Dense(30, activation='relu'),\n",
    "    Dense(10, activation='softmax')\n",
    "])\n",
    "model.summary()"
   ]
  },
  {
   "cell_type": "code",
   "execution_count": 60,
   "metadata": {},
   "outputs": [],
   "source": [
    "from tensorflow.keras.optimizers import Adam\n",
    "from tensorflow.keras.losses import CategoricalCrossentropy\n",
    "from tensorflow.keras.metrics import Accuracy\n",
    "\n",
    "model.compile(optimizer=Adam(0.001), loss='categorical_crossentropy', metrics=['accuracy'])"
   ]
  },
  {
   "cell_type": "code",
   "execution_count": 61,
   "metadata": {},
   "outputs": [
    {
     "name": "stdout",
     "output_type": "stream",
     "text": [
      "(60000, 10) (10000, 10)\n"
     ]
    }
   ],
   "source": [
    "from tensorflow.keras.utils import to_categorical\n",
    "\n",
    "train_oh_labels = to_categorical(train_labels)\n",
    "test_oh_labels = to_categorical(test_labels)\n",
    "\n",
    "print(train_oh_labels.shape, test_oh_labels.shape)"
   ]
  },
  {
   "cell_type": "code",
   "execution_count": 62,
   "metadata": {},
   "outputs": [
    {
     "data": {
      "text/plain": [
       "(60000, 28, 28)"
      ]
     },
     "execution_count": 62,
     "metadata": {},
     "output_type": "execute_result"
    }
   ],
   "source": [
    "train_images.shape"
   ]
  },
  {
   "cell_type": "code",
   "execution_count": 63,
   "metadata": {},
   "outputs": [
    {
     "name": "stdout",
     "output_type": "stream",
     "text": [
      "Epoch 1/20\n",
      "1875/1875 [==============================] - 5s 3ms/step - loss: 2.2641 - accuracy: 0.3525\n",
      "Epoch 2/20\n",
      "1875/1875 [==============================] - 5s 2ms/step - loss: 1.3127 - accuracy: 0.5124\n",
      "Epoch 3/20\n",
      "1875/1875 [==============================] - 4s 2ms/step - loss: 0.9748 - accuracy: 0.6096\n",
      "Epoch 4/20\n",
      "1875/1875 [==============================] - 5s 2ms/step - loss: 0.8144 - accuracy: 0.6705\n",
      "Epoch 5/20\n",
      "1875/1875 [==============================] - 6s 3ms/step - loss: 0.7446 - accuracy: 0.6956\n",
      "Epoch 6/20\n",
      "1875/1875 [==============================] - 5s 3ms/step - loss: 0.6896 - accuracy: 0.7184\n",
      "Epoch 7/20\n",
      "1875/1875 [==============================] - 5s 3ms/step - loss: 0.6019 - accuracy: 0.7712\n",
      "Epoch 8/20\n",
      "1875/1875 [==============================] - 5s 3ms/step - loss: 0.5411 - accuracy: 0.8020\n",
      "Epoch 9/20\n",
      "1875/1875 [==============================] - 4s 2ms/step - loss: 0.5227 - accuracy: 0.8128\n",
      "Epoch 10/20\n",
      "1875/1875 [==============================] - 4s 2ms/step - loss: 0.4999 - accuracy: 0.8178\n",
      "Epoch 11/20\n",
      "1875/1875 [==============================] - 4s 2ms/step - loss: 0.4853 - accuracy: 0.8213\n",
      "Epoch 12/20\n",
      "1875/1875 [==============================] - 5s 2ms/step - loss: 0.4772 - accuracy: 0.8228\n",
      "Epoch 13/20\n",
      "1875/1875 [==============================] - 4s 2ms/step - loss: 0.4713 - accuracy: 0.8264\n",
      "Epoch 14/20\n",
      "1875/1875 [==============================] - 4s 2ms/step - loss: 0.4557 - accuracy: 0.8315\n",
      "Epoch 15/20\n",
      "1875/1875 [==============================] - 4s 2ms/step - loss: 0.4465 - accuracy: 0.8330\n",
      "Epoch 16/20\n",
      "1875/1875 [==============================] - 4s 2ms/step - loss: 0.4340 - accuracy: 0.8370\n",
      "Epoch 17/20\n",
      "1875/1875 [==============================] - 4s 2ms/step - loss: 0.4235 - accuracy: 0.8372\n",
      "Epoch 18/20\n",
      "1875/1875 [==============================] - 4s 2ms/step - loss: 0.4162 - accuracy: 0.8407\n",
      "Epoch 19/20\n",
      "1875/1875 [==============================] - 4s 2ms/step - loss: 0.4177 - accuracy: 0.8410\n",
      "Epoch 20/20\n",
      "1875/1875 [==============================] - 4s 2ms/step - loss: 0.4111 - accuracy: 0.8413\n"
     ]
    }
   ],
   "source": [
    "# verbose = 0: 수행내용 출력 안함, 1: 자세히 출력함, 2: 축약된 정보 출력함\n",
    "history = model.fit(x=train_images, y=train_oh_labels, batch_size=32, epochs=20, verbose=1)"
   ]
  },
  {
   "cell_type": "code",
   "execution_count": 64,
   "metadata": {},
   "outputs": [
    {
     "data": {
      "text/plain": [
       "{'loss': [2.2640607357025146,\n",
       "  1.3127003908157349,\n",
       "  0.9747614860534668,\n",
       "  0.8144347071647644,\n",
       "  0.744619607925415,\n",
       "  0.6896264553070068,\n",
       "  0.6019357442855835,\n",
       "  0.5411253571510315,\n",
       "  0.5227099061012268,\n",
       "  0.4998883605003357,\n",
       "  0.4853413701057434,\n",
       "  0.47722357511520386,\n",
       "  0.4713400602340698,\n",
       "  0.45567142963409424,\n",
       "  0.4465196430683136,\n",
       "  0.43395090103149414,\n",
       "  0.4235278069972992,\n",
       "  0.41622233390808105,\n",
       "  0.4177035987377167,\n",
       "  0.41107985377311707],\n",
       " 'accuracy': [0.3525499999523163,\n",
       "  0.5123999714851379,\n",
       "  0.6095666885375977,\n",
       "  0.6705499887466431,\n",
       "  0.6955500245094299,\n",
       "  0.7183666825294495,\n",
       "  0.7712000012397766,\n",
       "  0.8020166754722595,\n",
       "  0.812833309173584,\n",
       "  0.8177833557128906,\n",
       "  0.8212666511535645,\n",
       "  0.8228166699409485,\n",
       "  0.826449990272522,\n",
       "  0.8315333127975464,\n",
       "  0.8330333232879639,\n",
       "  0.8369500041007996,\n",
       "  0.8371999859809875,\n",
       "  0.8406500220298767,\n",
       "  0.8410333395004272,\n",
       "  0.8413000106811523]}"
      ]
     },
     "execution_count": 64,
     "metadata": {},
     "output_type": "execute_result"
    }
   ],
   "source": [
    "history.history"
   ]
  },
  {
   "cell_type": "code",
   "execution_count": 65,
   "metadata": {},
   "outputs": [
    {
     "name": "stdout",
     "output_type": "stream",
     "text": [
      "[2.2640607357025146, 1.3127003908157349, 0.9747614860534668, 0.8144347071647644, 0.744619607925415, 0.6896264553070068, 0.6019357442855835, 0.5411253571510315, 0.5227099061012268, 0.4998883605003357, 0.4853413701057434, 0.47722357511520386, 0.4713400602340698, 0.45567142963409424, 0.4465196430683136, 0.43395090103149414, 0.4235278069972992, 0.41622233390808105, 0.4177035987377167, 0.41107985377311707]\n",
      "[0.3525499999523163, 0.5123999714851379, 0.6095666885375977, 0.6705499887466431, 0.6955500245094299, 0.7183666825294495, 0.7712000012397766, 0.8020166754722595, 0.812833309173584, 0.8177833557128906, 0.8212666511535645, 0.8228166699409485, 0.826449990272522, 0.8315333127975464, 0.8330333232879639, 0.8369500041007996, 0.8371999859809875, 0.8406500220298767, 0.8410333395004272, 0.8413000106811523]\n"
     ]
    }
   ],
   "source": [
    "print(history.history['loss'])\n",
    "print(history.history['accuracy'])"
   ]
  },
  {
   "cell_type": "markdown",
   "metadata": {},
   "source": [
    "#### 1.3 예측"
   ]
  },
  {
   "cell_type": "code",
   "execution_count": 66,
   "metadata": {},
   "outputs": [
    {
     "name": "stdout",
     "output_type": "stream",
     "text": [
      "313/313 [==============================] - 1s 2ms/step\n",
      "(10000, 10)\n"
     ]
    }
   ],
   "source": [
    "pred_proba = model.predict(test_images)\n",
    "print(pred_proba.shape)"
   ]
  },
  {
   "cell_type": "code",
   "execution_count": 67,
   "metadata": {},
   "outputs": [
    {
     "data": {
      "text/plain": [
       "array([9.0701517e-28, 3.1279756e-30, 2.7366402e-29, 1.7319592e-37,\n",
       "       0.0000000e+00, 1.4679764e-02, 5.9810416e-30, 7.4659525e-03,\n",
       "       4.2480752e-15, 9.7785425e-01], dtype=float32)"
      ]
     },
     "execution_count": 67,
     "metadata": {},
     "output_type": "execute_result"
    }
   ],
   "source": [
    "pred_proba[0]"
   ]
  },
  {
   "cell_type": "code",
   "execution_count": 68,
   "metadata": {},
   "outputs": [
    {
     "data": {
      "text/plain": [
       "0.99999994"
      ]
     },
     "execution_count": 68,
     "metadata": {},
     "output_type": "execute_result"
    }
   ],
   "source": [
    "pred_proba[0].sum()"
   ]
  },
  {
   "cell_type": "code",
   "execution_count": 69,
   "metadata": {},
   "outputs": [
    {
     "data": {
      "text/plain": [
       "9"
      ]
     },
     "execution_count": 69,
     "metadata": {},
     "output_type": "execute_result"
    }
   ],
   "source": [
    "pred_proba[0].argmax()"
   ]
  },
  {
   "cell_type": "code",
   "execution_count": 70,
   "metadata": {},
   "outputs": [
    {
     "name": "stdout",
     "output_type": "stream",
     "text": [
      "1/1 [==============================] - 0s 168ms/step\n"
     ]
    }
   ],
   "source": [
    "# predict 입력값으로 2차원을 넣으면 오류가 날 수 있음\n",
    "pred_proba = model.predict(test_images[0])"
   ]
  },
  {
   "cell_type": "code",
   "execution_count": 71,
   "metadata": {},
   "outputs": [
    {
     "data": {
      "text/plain": [
       "(28, 28)"
      ]
     },
     "execution_count": 71,
     "metadata": {},
     "output_type": "execute_result"
    }
   ],
   "source": [
    "test_images[0].shape # 2차원 이미지임(height * width)"
   ]
  },
  {
   "cell_type": "code",
   "execution_count": 72,
   "metadata": {},
   "outputs": [
    {
     "data": {
      "text/plain": [
       "(1, 28, 28)"
      ]
     },
     "execution_count": 72,
     "metadata": {},
     "output_type": "execute_result"
    }
   ],
   "source": [
    "np.expand_dims(test_images[0], axis=0).shape # 3차원으로 변환(predict에 3차원으로 늘려서 넣어주는 게 좋음)"
   ]
  },
  {
   "cell_type": "code",
   "execution_count": 73,
   "metadata": {},
   "outputs": [
    {
     "name": "stdout",
     "output_type": "stream",
     "text": [
      "1/1 [==============================] - 0s 60ms/step\n",
      "softmax output: [[9.0701863e-28 3.1279995e-30 2.7366613e-29 1.7319724e-37 0.0000000e+00\n",
      "  1.4679764e-02 5.9810872e-30 7.4659525e-03 4.2480752e-15 9.7785425e-01]]\n"
     ]
    }
   ],
   "source": [
    "pred_proba = model.predict(np.expand_dims(test_images[0], axis=0))\n",
    "print('softmax output:', pred_proba) # 반환되는 값이 2차임=>[[]]"
   ]
  },
  {
   "cell_type": "code",
   "execution_count": 74,
   "metadata": {},
   "outputs": [
    {
     "data": {
      "text/plain": [
       "array([9.0701863e-28, 3.1279995e-30, 2.7366613e-29, 1.7319724e-37,\n",
       "       0.0000000e+00, 1.4679764e-02, 5.9810872e-30, 7.4659525e-03,\n",
       "       4.2480752e-15, 9.7785425e-01], dtype=float32)"
      ]
     },
     "execution_count": 74,
     "metadata": {},
     "output_type": "execute_result"
    }
   ],
   "source": [
    "np.squeeze(pred_proba) # 필요없는 차원을 날려버림"
   ]
  },
  {
   "cell_type": "code",
   "execution_count": 75,
   "metadata": {},
   "outputs": [
    {
     "data": {
      "text/plain": [
       "array([9.0701863e-28, 3.1279995e-30, 2.7366613e-29, 1.7319724e-37,\n",
       "       0.0000000e+00, 1.4679764e-02, 5.9810872e-30, 7.4659525e-03,\n",
       "       4.2480752e-15, 9.7785425e-01], dtype=float32)"
      ]
     },
     "execution_count": 75,
     "metadata": {},
     "output_type": "execute_result"
    }
   ],
   "source": [
    "pred_proba[0] # pred_proba의 길이는 10000개임, 그 중 0번째 인덱스 값을 출력(10개의 레이블(티셔츠, 앵클부츠 등)에 대한 각각의 확률을 표시함)"
   ]
  },
  {
   "cell_type": "code",
   "execution_count": 76,
   "metadata": {},
   "outputs": [
    {
     "data": {
      "text/plain": [
       "10"
      ]
     },
     "execution_count": 76,
     "metadata": {},
     "output_type": "execute_result"
    }
   ],
   "source": [
    "len(pred_proba[0]) # pred_proba의 0번째 값의 길이는 10개(티셔츠, 드레스, ...., 앵클부츠 등에 대한 확률)"
   ]
  },
  {
   "cell_type": "code",
   "execution_count": 77,
   "metadata": {},
   "outputs": [
    {
     "name": "stdout",
     "output_type": "stream",
     "text": [
      "157/157 [==============================] - 3s 11ms/step - loss: 0.5252 - accuracy: 0.8253\n"
     ]
    },
    {
     "data": {
      "text/plain": [
       "[0.5251623392105103, 0.8252999782562256]"
      ]
     },
     "execution_count": 77,
     "metadata": {},
     "output_type": "execute_result"
    }
   ],
   "source": [
    "model.evaluate(test_images, test_oh_labels, batch_size=64)"
   ]
  },
  {
   "cell_type": "markdown",
   "metadata": {},
   "source": [
    "## 1.4 검증 데이터 세트를 이용한 학습 수행"
   ]
  },
  {
   "cell_type": "code",
   "execution_count": null,
   "metadata": {},
   "outputs": [],
   "source": [
    "def get_preprocessed_data(images, labels):\n",
    "    images = np.array(images/255, dtype=np.float32) # 데이터 정규화 =>minmax Scaler 사용 #이미지의 픽셀값이 0~255 사이이므로 255로 나눠서 강제로 0~1사이의 값으로 만듬\n",
    "    labels = np.array(labels, dtype=np.float32) # labels의 값은 이미지가 아니라 숫자값이므로 minmax Scaler 미적용\n",
    "    return images, labels"
   ]
  },
  {
   "cell_type": "code",
   "execution_count": null,
   "metadata": {},
   "outputs": [],
   "source": [
    "import numpy as np\n",
    "import pandas as pd\n",
    "from tensorflow.keras.datasets import fashion_mnist\n",
    "\n",
    "(train_images, train_labels), (test_images, test_labels) = fashion_mnist.load_data() # 데이커가 중간에 꼬였을 수도 있으므로 import부터 시작해서 새로 데이터 분리\n",
    "\n",
    "\n",
    "train_images, train_labels = get_preprocessed_data(train_images, train_labels)\n",
    "test_images, test_labels = get_preprocessed_data(test_images, test_labels)"
   ]
  },
  {
   "cell_type": "code",
   "execution_count": 79,
   "metadata": {},
   "outputs": [
    {
     "data": {
      "text/plain": [
       "array([[  0,   0,   0,   0,   0,   0,   0,   0,   0,   0,   0,   0,   0,\n",
       "          0,   0,   0,   0,   0,   0,   0,   0,   0,   0,   0,   0,   0,\n",
       "          0,   0],\n",
       "       [  0,   0,   0,   0,   0,   0,   0,   0,   0,   0,   0,   0,   0,\n",
       "          0,   0,   0,   0,   0,   0,   0,   0,   0,   0,   0,   0,   0,\n",
       "          0,   0],\n",
       "       [  0,   0,   0,   0,   0,   0,   0,   0,   0,   0,   0,   0,   0,\n",
       "          0,   0,   0,   0,   0,   0,   0,   0,   0,   0,   0,   0,   0,\n",
       "          0,   0],\n",
       "       [  0,   0,   0,   0,   0,   0,   0,   0,   0,   0,   0,   0,   0,\n",
       "          0,   0,   0,   0,   0,   0,   0,   0,   0,   0,   0,   0,   0,\n",
       "          0,   0],\n",
       "       [  0,   0,   0,   0,   0,   0,   0,   0,   0,   0,   0,   0,   0,\n",
       "          0,   0,   0,   0,   0,   0,   0,   0,   0,   0,   0,   0,   0,\n",
       "          0,   0],\n",
       "       [  0,   0,   0,   0,   0,   0,   0,   0,   0,   0,   0,   0,   0,\n",
       "          0,   0,   0,   0,   0,   0,   0,   0,   0,   0,   0,   0,   0,\n",
       "          0,   0],\n",
       "       [  0,   0,   0,   0,   0,   0,   0,   0,   0,   0,   0,   0,   0,\n",
       "          0,   0,   0,   0,   0,   0,   0,   0,   0,   0,   0,   0,   0,\n",
       "          0,   0],\n",
       "       [  0,   0,   0,   0,   0,   0,   0,   0,   0,   0,   0,   0,   0,\n",
       "          0,   0,   0,   0,   0,   0,   0,   0,   0,   0,   0,   0,   0,\n",
       "          0,   0],\n",
       "       [  0,   0,   0,   0,   0,   0,   0,   0,   0,   0,   0,   0,   0,\n",
       "          0,   0,   0,   0,   0,   0,   0,   0,   0,   0,   0,   0,   0,\n",
       "          0,   0],\n",
       "       [  0,   0,   0,   0,   0,   0,   0,   0,   0,   0,   0,   0,   0,\n",
       "          0,   0,   0,   0,   0,   0,   0,   0,   0,   0,   0,   0,   0,\n",
       "          0,   0],\n",
       "       [  0,   0,   0,   0,   0,   0,   0,   0,   0,   0,   0,   0,   0,\n",
       "          0,   0,   0,   0,   0,   0,   0,   0,   0,   0,   0,   0,   0,\n",
       "          0,   0],\n",
       "       [  0,   0,   0,   0,   0,   0,   0,   0,  48,  88,  54,  25,  19,\n",
       "          0,   0,   0,   0,   1,   0,   0,   0,   0,   0,   0,   0,   0,\n",
       "          0,   0],\n",
       "       [  4,   1,   1,   1,   0,   0, 206, 204, 106, 163, 178, 157, 163,\n",
       "        171, 119,  39,   0,   0,   2,   1,   1,   1,   1,   1,   1,   1,\n",
       "          0,   0],\n",
       "       [  0,   0,   0,   0,   0,  84, 204,   0,   0,   0,   1,  57,  91,\n",
       "         77,  99, 138,  94,   7,   0,   0,   0,   0,   0,   0,   0,   0,\n",
       "          1,   3],\n",
       "       [ 51,  43,  27,  27,  28, 254,  31,   0,   4,   0,   0,   0,  16,\n",
       "        121,  84,  19,  63, 110,  31,   0,   0,   0,   0,   0,   0,   0,\n",
       "          0,   0],\n",
       "       [137, 202, 133, 108,  97, 146,  71,  78,  82,  86,  85, 105, 118,\n",
       "        139, 143, 126, 162, 176, 135,  69,  76,  71,  91,  99, 103,  94,\n",
       "         99,  54],\n",
       "       [  0, 110, 186, 205, 203, 193, 191, 178, 204, 172, 175, 175, 177,\n",
       "        183, 189, 190, 197, 196, 192, 182, 186, 185, 184, 182, 178, 168,\n",
       "        159,  77],\n",
       "       [  0,   0,   0,   4,  51,  69,  92, 108, 112, 115, 112, 111, 112,\n",
       "         90,  77,  62,  44,  36,  32,  35,  27,  25,  19,  14,   5,   0,\n",
       "          0,   0],\n",
       "       [  0,   0,   0,   0,   0,   0,   0,   0,   0,   0,   0,   0,   0,\n",
       "          0,   0,   0,   0,   0,   0,   0,   0,   0,   0,   0,   0,   0,\n",
       "          0,   0],\n",
       "       [  0,   0,   0,   0,   0,   0,   0,   0,   0,   0,   0,   0,   0,\n",
       "          0,   0,   0,   0,   0,   0,   0,   0,   0,   0,   0,   0,   0,\n",
       "          0,   0],\n",
       "       [  0,   0,   0,   0,   0,   0,   0,   0,   0,   0,   0,   0,   0,\n",
       "          0,   0,   0,   0,   0,   0,   0,   0,   0,   0,   0,   0,   0,\n",
       "          0,   0],\n",
       "       [  0,   0,   0,   0,   0,   0,   0,   0,   0,   0,   0,   0,   0,\n",
       "          0,   0,   0,   0,   0,   0,   0,   0,   0,   0,   0,   0,   0,\n",
       "          0,   0],\n",
       "       [  0,   0,   0,   0,   0,   0,   0,   0,   0,   0,   0,   0,   0,\n",
       "          0,   0,   0,   0,   0,   0,   0,   0,   0,   0,   0,   0,   0,\n",
       "          0,   0],\n",
       "       [  0,   0,   0,   0,   0,   0,   0,   0,   0,   0,   0,   0,   0,\n",
       "          0,   0,   0,   0,   0,   0,   0,   0,   0,   0,   0,   0,   0,\n",
       "          0,   0],\n",
       "       [  0,   0,   0,   0,   0,   0,   0,   0,   0,   0,   0,   0,   0,\n",
       "          0,   0,   0,   0,   0,   0,   0,   0,   0,   0,   0,   0,   0,\n",
       "          0,   0],\n",
       "       [  0,   0,   0,   0,   0,   0,   0,   0,   0,   0,   0,   0,   0,\n",
       "          0,   0,   0,   0,   0,   0,   0,   0,   0,   0,   0,   0,   0,\n",
       "          0,   0],\n",
       "       [  0,   0,   0,   0,   0,   0,   0,   0,   0,   0,   0,   0,   0,\n",
       "          0,   0,   0,   0,   0,   0,   0,   0,   0,   0,   0,   0,   0,\n",
       "          0,   0],\n",
       "       [  0,   0,   0,   0,   0,   0,   0,   0,   0,   0,   0,   0,   0,\n",
       "          0,   0,   0,   0,   0,   0,   0,   0,   0,   0,   0,   0,   0,\n",
       "          0,   0]], dtype=uint8)"
      ]
     },
     "execution_count": 79,
     "metadata": {},
     "output_type": "execute_result"
    }
   ],
   "source": [
    "train_images[30]"
   ]
  },
  {
   "cell_type": "code",
   "execution_count": 80,
   "metadata": {},
   "outputs": [
    {
     "name": "stdout",
     "output_type": "stream",
     "text": [
      "train과 validation shape: (51000, 28, 28) (51000,) (9000, 28, 28) (9000,)\n",
      "after OHE: (51000, 10) (9000, 10)\n"
     ]
    }
   ],
   "source": [
    "from sklearn.model_selection import train_test_split\n",
    "from tensorflow.keras.utils import to_categorical\n",
    "tr_images, val_images, tr_labels, val_labels = train_test_split(train_images, train_labels, \\\n",
    "                                                                test_size=0.15, random_state=2021)\n",
    "print('train과 validation shape:', tr_images.shape, tr_labels.shape, val_images.shape, \\\n",
    "                              val_labels.shape)\n",
    "tr_oh_labels = to_categorical(tr_labels)\n",
    "val_oh_labels = to_categorical(val_labels)\n",
    "print('after OHE:', tr_oh_labels.shape, val_oh_labels.shape)"
   ]
  },
  {
   "cell_type": "code",
   "execution_count": 81,
   "metadata": {},
   "outputs": [],
   "source": [
    "from tensorflow.keras.layers import Dense, Flatten\n",
    "from tensorflow.keras.models import Sequential\n",
    "from tensorflow.keras.optimizers import Adam\n",
    "INPUT_SIZE = 28\n",
    "model = Sequential([\n",
    "    Flatten(input_shape=(INPUT_SIZE, INPUT_SIZE)),\n",
    "    Dense(100, activation='relu'),\n",
    "    Dense(30, activation='relu'),\n",
    "    Dense(10, activation='softmax')\n",
    "])\n",
    "model.compile(optimizer=Adam(0.001), loss='categorical_crossentropy', metrics=['accuracy'])"
   ]
  },
  {
   "cell_type": "code",
   "execution_count": 83,
   "metadata": {},
   "outputs": [
    {
     "name": "stdout",
     "output_type": "stream",
     "text": [
      "Epoch 1/20\n",
      "399/399 [==============================] - 5s 7ms/step - loss: 4.3966 - accuracy: 0.6959 - val_loss: 1.0667 - val_accuracy: 0.7542\n",
      "Epoch 2/20\n",
      "399/399 [==============================] - 3s 7ms/step - loss: 0.8050 - accuracy: 0.7751 - val_loss: 0.6982 - val_accuracy: 0.7942\n",
      "Epoch 3/20\n",
      "399/399 [==============================] - 2s 6ms/step - loss: 0.5924 - accuracy: 0.8097 - val_loss: 0.6605 - val_accuracy: 0.7961\n",
      "Epoch 4/20\n",
      "399/399 [==============================] - 2s 5ms/step - loss: 0.5179 - accuracy: 0.8239 - val_loss: 0.5522 - val_accuracy: 0.8234\n",
      "Epoch 5/20\n",
      "399/399 [==============================] - 2s 5ms/step - loss: 0.4716 - accuracy: 0.8360 - val_loss: 0.5961 - val_accuracy: 0.7992\n",
      "Epoch 6/20\n",
      "399/399 [==============================] - 2s 4ms/step - loss: 0.4457 - accuracy: 0.8434 - val_loss: 0.5092 - val_accuracy: 0.8347\n",
      "Epoch 7/20\n",
      "399/399 [==============================] - 2s 5ms/step - loss: 0.4246 - accuracy: 0.8479 - val_loss: 0.4986 - val_accuracy: 0.8401\n",
      "Epoch 8/20\n",
      "399/399 [==============================] - 2s 5ms/step - loss: 0.4068 - accuracy: 0.8544 - val_loss: 0.5132 - val_accuracy: 0.8300\n",
      "Epoch 9/20\n",
      "399/399 [==============================] - 2s 5ms/step - loss: 0.4012 - accuracy: 0.8554 - val_loss: 0.4680 - val_accuracy: 0.8381\n",
      "Epoch 10/20\n",
      "399/399 [==============================] - 2s 5ms/step - loss: 0.3906 - accuracy: 0.8587 - val_loss: 0.4951 - val_accuracy: 0.8358\n",
      "Epoch 11/20\n",
      "399/399 [==============================] - 2s 5ms/step - loss: 0.3858 - accuracy: 0.8610 - val_loss: 0.4661 - val_accuracy: 0.8470\n",
      "Epoch 12/20\n",
      "399/399 [==============================] - 2s 5ms/step - loss: 0.3793 - accuracy: 0.8638 - val_loss: 0.4625 - val_accuracy: 0.8413\n",
      "Epoch 13/20\n",
      "399/399 [==============================] - 2s 5ms/step - loss: 0.3645 - accuracy: 0.8667 - val_loss: 0.4754 - val_accuracy: 0.8394\n",
      "Epoch 14/20\n",
      "399/399 [==============================] - 2s 4ms/step - loss: 0.3661 - accuracy: 0.8657 - val_loss: 0.5207 - val_accuracy: 0.8406\n",
      "Epoch 15/20\n",
      "399/399 [==============================] - 2s 5ms/step - loss: 0.3722 - accuracy: 0.8647 - val_loss: 0.4551 - val_accuracy: 0.8498\n",
      "Epoch 16/20\n",
      "399/399 [==============================] - 3s 7ms/step - loss: 0.3593 - accuracy: 0.8708 - val_loss: 0.4306 - val_accuracy: 0.8572\n",
      "Epoch 17/20\n",
      "399/399 [==============================] - 3s 8ms/step - loss: 0.3545 - accuracy: 0.8718 - val_loss: 0.4512 - val_accuracy: 0.8586\n",
      "Epoch 18/20\n",
      "399/399 [==============================] - 3s 6ms/step - loss: 0.3543 - accuracy: 0.8716 - val_loss: 0.4413 - val_accuracy: 0.8526\n",
      "Epoch 19/20\n",
      "399/399 [==============================] - 3s 8ms/step - loss: 0.3481 - accuracy: 0.8739 - val_loss: 0.4403 - val_accuracy: 0.8583\n",
      "Epoch 20/20\n",
      "399/399 [==============================] - 2s 6ms/step - loss: 0.3463 - accuracy: 0.8733 - val_loss: 0.4114 - val_accuracy: 0.8577\n"
     ]
    }
   ],
   "source": [
    "history = model.fit(x=tr_images, y=tr_oh_labels, batch_size=128, \\\n",
    "            validation_data=(val_images, val_oh_labels), epochs=20, verbose=1)"
   ]
  },
  {
   "cell_type": "code",
   "execution_count": 84,
   "metadata": {},
   "outputs": [
    {
     "data": {
      "text/plain": [
       "{'loss': [4.3965654373168945,\n",
       "  0.8049581050872803,\n",
       "  0.5923933386802673,\n",
       "  0.5178589224815369,\n",
       "  0.47157949209213257,\n",
       "  0.44569647312164307,\n",
       "  0.424603134393692,\n",
       "  0.40682217478752136,\n",
       "  0.40117502212524414,\n",
       "  0.3906368315219879,\n",
       "  0.38584643602371216,\n",
       "  0.37925198674201965,\n",
       "  0.3645493686199188,\n",
       "  0.366117924451828,\n",
       "  0.37224280834198,\n",
       "  0.35930243134498596,\n",
       "  0.354458212852478,\n",
       "  0.3543109595775604,\n",
       "  0.34805142879486084,\n",
       "  0.34633156657218933],\n",
       " 'accuracy': [0.6958823800086975,\n",
       "  0.7751176357269287,\n",
       "  0.8097450733184814,\n",
       "  0.8239215612411499,\n",
       "  0.8359608054161072,\n",
       "  0.8433529138565063,\n",
       "  0.8478823304176331,\n",
       "  0.8543725609779358,\n",
       "  0.8553725481033325,\n",
       "  0.8586666584014893,\n",
       "  0.8610392212867737,\n",
       "  0.8637647032737732,\n",
       "  0.866745114326477,\n",
       "  0.8657255172729492,\n",
       "  0.8646862506866455,\n",
       "  0.8707647323608398,\n",
       "  0.8717647194862366,\n",
       "  0.8716274499893188,\n",
       "  0.8739019632339478,\n",
       "  0.8732548952102661],\n",
       " 'val_loss': [1.066742181777954,\n",
       "  0.6982086300849915,\n",
       "  0.6605275869369507,\n",
       "  0.5521624684333801,\n",
       "  0.5961183905601501,\n",
       "  0.5091626048088074,\n",
       "  0.4985743761062622,\n",
       "  0.5132302045822144,\n",
       "  0.46803489327430725,\n",
       "  0.49510449171066284,\n",
       "  0.46609625220298767,\n",
       "  0.4624924659729004,\n",
       "  0.47542744874954224,\n",
       "  0.5206779837608337,\n",
       "  0.4551407992839813,\n",
       "  0.4305954873561859,\n",
       "  0.45117083191871643,\n",
       "  0.4413270950317383,\n",
       "  0.4402850270271301,\n",
       "  0.4114381968975067],\n",
       " 'val_accuracy': [0.7542222142219543,\n",
       "  0.7942222356796265,\n",
       "  0.7961111068725586,\n",
       "  0.8234444260597229,\n",
       "  0.7992222309112549,\n",
       "  0.8346666693687439,\n",
       "  0.8401111364364624,\n",
       "  0.8299999833106995,\n",
       "  0.8381111025810242,\n",
       "  0.835777759552002,\n",
       "  0.847000002861023,\n",
       "  0.8413333296775818,\n",
       "  0.8394444584846497,\n",
       "  0.8405555486679077,\n",
       "  0.8497777581214905,\n",
       "  0.8572221994400024,\n",
       "  0.8585555553436279,\n",
       "  0.8525555729866028,\n",
       "  0.8583333492279053,\n",
       "  0.8576666712760925]}"
      ]
     },
     "execution_count": 84,
     "metadata": {},
     "output_type": "execute_result"
    }
   ],
   "source": [
    "history.history"
   ]
  },
  {
   "cell_type": "code",
   "execution_count": 85,
   "metadata": {},
   "outputs": [
    {
     "data": {
      "image/png": "[encoded data removed]",
      "text/plain": [
       "<Figure size 640x480 with 1 Axes>"
      ]
     },
     "metadata": {},
     "output_type": "display_data"
    }
   ],
   "source": [
    "import matplotlib.pyplot as plt\n",
    "%matplotlib inline\n",
    "def show_history(history):\n",
    "    plt.plot(history.history['accuracy'], label='train')\n",
    "    plt.plot(history.history['val_accuracy'], label='valid')\n",
    "    plt.legend()\n",
    "show_history(history)"
   ]
  },
  {
   "cell_type": "code",
   "execution_count": 86,
   "metadata": {},
   "outputs": [
    {
     "name": "stdout",
     "output_type": "stream",
     "text": [
      "40/40 [==============================] - 1s 7ms/step - loss: 0.4454 - accuracy: 0.8481\n"
     ]
    },
    {
     "data": {
      "text/plain": [
       "[0.4453752338886261, 0.8481000065803528]"
      ]
     },
     "execution_count": 86,
     "metadata": {},
     "output_type": "execute_result"
    }
   ],
   "source": [
    "model.evaluate(test_images, test_oh_labels, batch_size=256, verbose=1)"
   ]
  }
 ],
 "metadata": {
  "kernelspec": {
   "display_name": "Python 3.10.4 ('study')",
   "language": "python",
   "name": "python3"
  },
  "language_info": {
   "codemirror_mode": {
    "name": "ipython",
    "version": 3
   },
   "file_extension": ".py",
   "mimetype": "text/x-python",
   "name": "python",
   "nbconvert_exporter": "python",
   "pygments_lexer": "ipython3",
   "version": "3.10.4"
  },
  "orig_nbformat": 4,
  "vscode": {
   "interpreter": {
    "hash": "0256a90f9021ab22a800308839634f65987390d84e3d9cbf14b56a25bb294ea9"
   }
  }
 },
 "nbformat": 4,
 "nbformat_minor": 2
}
