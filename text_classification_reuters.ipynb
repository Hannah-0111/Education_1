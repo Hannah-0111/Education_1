{
 "cells": [
  {
   "cell_type": "code",
   "execution_count": 1,
   "metadata": {},
   "outputs": [],
   "source": [
    "import numpy as np\n",
    "import pandas as pd\n",
    "import matplotlib.pyplot as plt"
   ]
  },
  {
   "cell_type": "code",
   "execution_count": 3,
   "metadata": {},
   "outputs": [],
   "source": [
    "from tensorflow.keras.datasets import reuters"
   ]
  },
  {
   "cell_type": "code",
   "execution_count": 4,
   "metadata": {},
   "outputs": [
    {
     "name": "stdout",
     "output_type": "stream",
     "text": [
      "Downloading data from https://storage.googleapis.com/tensorflow/tf-keras-datasets/reuters.npz\n",
      "2110848/2110848 [==============================] - 0s 0us/step\n"
     ]
    },
    {
     "data": {
      "text/plain": [
       "((8982,), (2246,))"
      ]
     },
     "execution_count": 4,
     "metadata": {},
     "output_type": "execute_result"
    }
   ],
   "source": [
    "(train_data, train_labels), (test_data, test_labels) = reuters.load_data(num_words=1000)\n",
    "train_data.shape, test_data.shape"
   ]
  },
  {
   "cell_type": "code",
   "execution_count": 10,
   "metadata": {},
   "outputs": [
    {
     "name": "stdout",
     "output_type": "stream",
     "text": [
      "? ? ? said as a result of its december acquisition of ? co it expects earnings per share in 1987 of 1 15 to 1 30 dlrs per share up from 70 cts in 1986 the company said pretax net should rise to nine to 10 mln dlrs from six mln dlrs in 1986 and ? ? revenues to 19 to 22 mln dlrs from 12 5 mln dlrs it said cash ? per share this year should be 2 50 to three dlrs reuter 3\n"
     ]
    }
   ],
   "source": [
    "word_idx = reuters.get_word_index()\n",
    "reverse_word_idx = dict(\n",
    "    [(value, key) for (key,value) in word_idx.items()]\n",
    ")\n",
    "# print(reverse_word_idx)\n",
    "decoded_review = \" \".join(\n",
    "    [reverse_word_idx.get(i-3, \"?\") for i in train_data[0]]\n",
    ")\n",
    "print(decoded_review)"
   ]
  },
  {
   "cell_type": "code",
   "execution_count": 13,
   "metadata": {},
   "outputs": [],
   "source": [
    "def vectorize_sequence(sequences, dimension=10000):\n",
    "  mat = np.zeros((len(sequences), dimension))\n",
    "  for i, seq in enumerate(sequences):\n",
    "    mat[i, seq] = 1.\n",
    "  return mat\n",
    "\n",
    "x_train = vectorize_sequence(train_data)\n",
    "x_test = vectorize_sequence(test_data)"
   ]
  },
  {
   "cell_type": "code",
   "execution_count": 14,
   "metadata": {},
   "outputs": [
    {
     "data": {
      "text/plain": [
       "((8982, 10000), (2246, 10000))"
      ]
     },
     "execution_count": 14,
     "metadata": {},
     "output_type": "execute_result"
    }
   ],
   "source": [
    "x_train.shape, x_test.shape"
   ]
  },
  {
   "cell_type": "code",
   "execution_count": 15,
   "metadata": {},
   "outputs": [],
   "source": [
    "from tensorflow.keras.utils import to_categorical\n",
    "from keras.utils.np_utils import to_categorical\n",
    "\n",
    "y_train = to_categorical(train_labels)\n",
    "y_test = to_categorical(test_labels)"
   ]
  },
  {
   "cell_type": "code",
   "execution_count": 16,
   "metadata": {},
   "outputs": [],
   "source": [
    "from keras import models, layers\n",
    "\n",
    "model = models.Sequential()\n",
    "model.add(layers.Dense(64, activation='relu', input_shape=(10000,)))\n",
    "model.add(layers.Dense(64, activation='relu'))\n",
    "model.add(layers.Dense(46, activation='softmax'))"
   ]
  },
  {
   "cell_type": "code",
   "execution_count": 17,
   "metadata": {},
   "outputs": [],
   "source": [
    "model.compile(optimizer='rmsprop',\n",
    "              loss='categorical_crossentropy',\n",
    "              metrics=['accuracy'])"
   ]
  },
  {
   "cell_type": "code",
   "execution_count": 18,
   "metadata": {},
   "outputs": [],
   "source": [
    "x_val = x_train[:1000, :]\n",
    "partial_x_train = x_train[1000:,:]\n",
    "y_val = y_train[:1000, :]\n",
    "partial_y_train = y_train[1000:,:]"
   ]
  },
  {
   "cell_type": "code",
   "execution_count": 19,
   "metadata": {},
   "outputs": [
    {
     "name": "stdout",
     "output_type": "stream",
     "text": [
      "Epoch 1/10\n",
      "16/16 [==============================] - 13s 316ms/step - loss: 2.7662 - accuracy: 0.4992 - val_loss: 1.9179 - val_accuracy: 0.5960\n",
      "Epoch 2/10\n",
      "16/16 [==============================] - 2s 106ms/step - loss: 1.6759 - accuracy: 0.6362 - val_loss: 1.4844 - val_accuracy: 0.6590\n",
      "Epoch 3/10\n",
      "16/16 [==============================] - 1s 85ms/step - loss: 1.3709 - accuracy: 0.6951 - val_loss: 1.2917 - val_accuracy: 0.6980\n",
      "Epoch 4/10\n",
      "16/16 [==============================] - 1s 87ms/step - loss: 1.2041 - accuracy: 0.7310 - val_loss: 1.1852 - val_accuracy: 0.7230\n",
      "Epoch 5/10\n",
      "16/16 [==============================] - 1s 94ms/step - loss: 1.0869 - accuracy: 0.7571 - val_loss: 1.1110 - val_accuracy: 0.7480\n",
      "Epoch 6/10\n",
      "16/16 [==============================] - 1s 90ms/step - loss: 0.9903 - accuracy: 0.7800 - val_loss: 1.0533 - val_accuracy: 0.7730\n",
      "Epoch 7/10\n",
      "16/16 [==============================] - 1s 86ms/step - loss: 0.9091 - accuracy: 0.7999 - val_loss: 1.0150 - val_accuracy: 0.7850\n",
      "Epoch 8/10\n",
      "16/16 [==============================] - 1s 85ms/step - loss: 0.8430 - accuracy: 0.8122 - val_loss: 0.9829 - val_accuracy: 0.7850\n",
      "Epoch 9/10\n",
      "16/16 [==============================] - 1s 81ms/step - loss: 0.7764 - accuracy: 0.8217 - val_loss: 0.9633 - val_accuracy: 0.7900\n",
      "Epoch 10/10\n",
      "16/16 [==============================] - 1s 82ms/step - loss: 0.7242 - accuracy: 0.8348 - val_loss: 0.9397 - val_accuracy: 0.7880\n",
      "71/71 [==============================] - 1s 8ms/step - loss: 1.0338 - accuracy: 0.7569\n"
     ]
    },
    {
     "data": {
      "text/plain": [
       "[1.0338115692138672, 0.7569011449813843]"
      ]
     },
     "execution_count": 19,
     "metadata": {},
     "output_type": "execute_result"
    }
   ],
   "source": [
    "history = model.fit(partial_x_train, partial_y_train,\n",
    "                    epochs=10,\n",
    "                    batch_size=512,\n",
    "                    validation_data=(x_val, y_val))\n",
    "\n",
    "model.evaluate(x_test, y_test) # test_acc : 0.7836152911186218]"
   ]
  },
  {
   "cell_type": "code",
   "execution_count": 20,
   "metadata": {},
   "outputs": [
    {
     "data": {
      "image/png": "[encoded data removed]",
      "text/plain": [
       "<Figure size 640x480 with 1 Axes>"
      ]
     },
     "metadata": {},
     "output_type": "display_data"
    },
    {
     "data": {
      "image/png": "[encoded data removed]",
      "text/plain": [
       "<Figure size 640x480 with 1 Axes>"
      ]
     },
     "metadata": {},
     "output_type": "display_data"
    }
   ],
   "source": [
    "def history_plot(history_dict):\n",
    "\n",
    "  keys = list(history_dict.keys())\n",
    "  train_loss = history_dict[keys[0]]\n",
    "  train_acc = history_dict[keys[1]]\n",
    "  val_loss = history_dict[keys[2]]\n",
    "  val_acc = history_dict[keys[3]]\n",
    "\n",
    "  x = np.arange(1,len(train_loss)+1).astype('int8')\n",
    "\n",
    "  plt.plot(x, train_loss, 'bo', label='train')\n",
    "  plt.plot(x, val_loss, label='val')\n",
    "  plt.title('Loss')\n",
    "  plt.legend()\n",
    "  plt.show()\n",
    "\n",
    "  plt.plot(x, train_acc, 'bo', label='train')\n",
    "  plt.plot(x, val_acc, label='val')\n",
    "  plt.title('Accuracy')\n",
    "  plt.legend()\n",
    "  plt.show()\n",
    "\n",
    "history_plot(history.history)"
   ]
  }
 ],
 "metadata": {
  "kernelspec": {
   "display_name": "Python 3.10.4 ('study')",
   "language": "python",
   "name": "python3"
  },
  "language_info": {
   "codemirror_mode": {
    "name": "ipython",
    "version": 3
   },
   "file_extension": ".py",
   "mimetype": "text/x-python",
   "name": "python",
   "nbconvert_exporter": "python",
   "pygments_lexer": "ipython3",
   "version": "3.10.4"
  },
  "orig_nbformat": 4,
  "vscode": {
   "interpreter": {
    "hash": "0256a90f9021ab22a800308839634f65987390d84e3d9cbf14b56a25bb294ea9"
   }
  }
 },
 "nbformat": 4,
 "nbformat_minor": 2
}
